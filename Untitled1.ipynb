{
 "cells": [
  {
   "cell_type": "markdown",
   "id": "71155549",
   "metadata": {},
   "source": [
    "|My Jupyter Notebook on IBM Watson Studio|\n",
    "|----------------------------------------|\n",
    "|**Noppavit Kanchitavorakul**|\n",
    "|Data Scienctist|\n",
    "|*I am interested in data science because it is very interesting*|\n",
    "|Plus Function|\n",
    "|def my_function(a, b):|\n",
    "|  -> a = a+b|\n",
    "|  -> return a|\n",
    "|[![IMAGE ALT TEXT HERE](http://img.youtube.com/vi/vaCrYc6a_tKI&list=RDaCrYc6a_tKI&start_radio=1/0.jpg)](http://www.youtube.com/watch?vaCrYc6a_tKI&list=RDaCrYc6a_tKI&start_radio=1)|\n",
    "|![alt text](https://static01.nyt.com/images/2021/04/30/multimedia/30xp-meme/29xp-meme-superJumbo-v3.jpg?quality=75&auto=webp \"Logo Title Text 1\")|\n",
    "|(https://www.google.com)|"
   ]
  },
  {
   "cell_type": "code",
   "execution_count": null,
   "id": "b235d66b",
   "metadata": {},
   "outputs": [],
   "source": []
  }
 ],
 "metadata": {
  "kernelspec": {
   "display_name": "Python 3 (ipykernel)",
   "language": "python",
   "name": "python3"
  },
  "language_info": {
   "codemirror_mode": {
    "name": "ipython",
    "version": 3
   },
   "file_extension": ".py",
   "mimetype": "text/x-python",
   "name": "python",
   "nbconvert_exporter": "python",
   "pygments_lexer": "ipython3",
   "version": "3.9.13"
  }
 },
 "nbformat": 4,
 "nbformat_minor": 5
}
